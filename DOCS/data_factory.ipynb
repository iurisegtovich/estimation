{
 "cells": [
  {
   "cell_type": "code",
   "execution_count": 79,
   "metadata": {},
   "outputs": [],
   "source": [
    "import numpy as np\n",
    "import pandas as pd\n",
    "from matplotlib import pyplot as plt\n",
    "from scipy import stats\n",
    "from scipy import optimize as opt"
   ]
  },
  {
   "cell_type": "code",
   "execution_count": 80,
   "metadata": {},
   "outputs": [],
   "source": [
    "def MODEL(XM,A,B):\n",
    "    YC=A*B*XM/(1.+B*XM)\n",
    "    return YC"
   ]
  },
  {
   "cell_type": "code",
   "execution_count": 81,
   "metadata": {},
   "outputs": [
    {
     "data": {
      "image/png": "[encoded data removed]",
      "text/plain": [
       "<Figure size 432x288 with 1 Axes>"
      ]
     },
     "metadata": {},
     "output_type": "display_data"
    }
   ],
   "source": [
    "X=np.linspace(0,27,100)\n",
    "XEXP=np.array([.1,1.1,2.1,4.1,30])\n",
    "A=10\n",
    "B=1\n",
    "Y=MODEL(X,A,B)\n",
    "Y\n",
    "plt.plot(X,Y)\n",
    "\n",
    "\n",
    "YEXP1=MODEL(XEXP,A,B)+np.random.normal(size=[5]) #VARIANCIA DA REAL DA POPULACAO\n",
    "YEXP2=MODEL(XEXP,A,B)+np.random.normal(size=[5])\n",
    "YEXP3=MODEL(XEXP,A,B)+np.random.normal(size=[5])\n",
    "plt.scatter(XEXP,YEXP1)\n",
    "plt.scatter(XEXP,YEXP2)\n",
    "plt.scatter(XEXP,YEXP3)\n",
    "plt.show()\n"
   ]
  },
  {
   "cell_type": "code",
   "execution_count": 86,
   "metadata": {},
   "outputs": [],
   "source": [
    "VARY=np.zeros(5)\n",
    "for i in range(5):\n",
    "    VARY[i]=np.var([YEXP1[i],YEXP2[i],YEXP3[i]],ddof=1) #ESTIMADOR DA VARIANCIA DA POPULACAO COM BASE NA AMOSTRA"
   ]
  },
  {
   "cell_type": "code",
   "execution_count": 87,
   "metadata": {},
   "outputs": [
    {
     "name": "stdout",
     "output_type": "stream",
     "text": [
      "[ 1.0000E-01 , 8.77E-01 , 3.10E-01 ] ,\n",
      "[ 1.0000E-01 , -2.02E-01 , 3.10E-01 ] ,\n",
      "[ 1.0000E-01 , 1.04E-01 , 3.10E-01 ] ,\n",
      "[ 1.1000E+00 , 4.13E+00 , 2.91E-01 ] ,\n",
      "[ 1.1000E+00 , 4.94E+00 , 2.91E-01 ] ,\n",
      "[ 1.1000E+00 , 5.16E+00 , 2.91E-01 ] ,\n",
      "[ 2.1000E+00 , 6.35E+00 , 7.76E-02 ] ,\n",
      "[ 2.1000E+00 , 6.88E+00 , 7.76E-02 ] ,\n",
      "[ 2.1000E+00 , 6.49E+00 , 7.76E-02 ] ,\n",
      "[ 4.1000E+00 , 8.66E+00 , 1.22E+00 ] ,\n",
      "[ 4.1000E+00 , 7.70E+00 , 1.22E+00 ] ,\n",
      "[ 4.1000E+00 , 6.46E+00 , 1.22E+00 ] ,\n",
      "[ 3.0000E+01 , 9.58E+00 , 4.57E-01 ] ,\n",
      "[ 3.0000E+01 , 1.09E+01 , 4.57E-01 ] ,\n",
      "[ 3.0000E+01 , 1.01E+01 , 4.57E-01 ] ,\n"
     ]
    }
   ],
   "source": [
    "for xi,yi,vari in zip(\n",
    "[XEXP[i] for i in range(5) for j in range(3)],\n",
    "[Y[i] for i in range(5) for Y in [YEXP1,YEXP2,YEXP3]],\n",
    "[VARY[i]  for i in range(5) for j in range(3)]\n",
    "):\n",
    "    print('[',\"{:.4E}\".format(xi),',',\"{:.2E}\".format(yi),',',\"{:.2E}\".format(vari),']',',')"
   ]
  }
 ],
 "metadata": {
  "kernelspec": {
   "display_name": "Python [default]",
   "language": "python",
   "name": "python3"
  },
  "language_info": {
   "codemirror_mode": {
    "name": "ipython",
    "version": 3
   },
   "file_extension": ".py",
   "mimetype": "text/x-python",
   "name": "python",
   "nbconvert_exporter": "python",
   "pygments_lexer": "ipython3",
   "version": "3.6.3"
  }
 },
 "nbformat": 4,
 "nbformat_minor": 2
}
